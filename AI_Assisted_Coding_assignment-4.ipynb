{
  "nbformat": 4,
  "nbformat_minor": 0,
  "metadata": {
    "colab": {
      "provenance": []
    },
    "kernelspec": {
      "name": "python3",
      "display_name": "Python 3"
    },
    "language_info": {
      "name": "python"
    }
  },
  "cells": [
    {
      "cell_type": "code",
      "source": [],
      "metadata": {
        "id": "7jUwq3TYon1s"
      },
      "execution_count": null,
      "outputs": []
    },
    {
      "cell_type": "markdown",
      "source": [
        "\n",
        "\n",
        "ASSIGNMENT-4.5\n",
        "\n"
      ],
      "metadata": {
        "id": "NQIN6f7SoT9z"
      }
    },
    {
      "cell_type": "code",
      "execution_count": 1,
      "metadata": {
        "id": "bfRfLehRc1vs"
      },
      "outputs": [],
      "source": []
    },
    {
      "cell_type": "markdown",
      "source": [
        "TEXT1"
      ],
      "metadata": {
        "id": "C3a25yjEh_Cr"
      }
    },
    {
      "cell_type": "code",
      "source": [],
      "metadata": {
        "id": "Im-dsZV3om_h"
      },
      "execution_count": null,
      "outputs": []
    },
    {
      "cell_type": "code",
      "metadata": {
        "id": "d26ea06f"
      },
      "source": [
        "def fibonacci_sequence(n):\n",
        "  \"\"\"Generates the Fibonacci sequence up to n terms.\"\"\"\n",
        "  sequence = []\n",
        "  a, b = 0, 1\n",
        "  for _ in range(n):\n",
        "    sequence.append(a)\n",
        "    a, b = b, a + b\n",
        "  return sequence"
      ],
      "execution_count": 1,
      "outputs": []
    },
    {
      "cell_type": "code",
      "metadata": {
        "colab": {
          "base_uri": "https://localhost:8080/"
        },
        "id": "20e377d6",
        "outputId": "497b7656-5959-41d3-dee6-c09b4d1ac1c0"
      },
      "source": [
        "# Call the function with n=10 and display the output\n",
        "result = fibonacci_sequence(10)\n",
        "print(result)"
      ],
      "execution_count": 3,
      "outputs": [
        {
          "output_type": "stream",
          "name": "stdout",
          "text": [
            "[0, 1, 1, 2, 3, 5, 8, 13, 21, 34]\n"
          ]
        }
      ]
    },
    {
      "cell_type": "markdown",
      "source": [],
      "metadata": {
        "id": "0HKSG70xhkDG"
      }
    },
    {
      "cell_type": "markdown",
      "source": [
        "TEXT2"
      ],
      "metadata": {
        "id": "0J_Ve4YHhr0x"
      }
    },
    {
      "cell_type": "code",
      "source": [],
      "metadata": {
        "id": "id3aRxSxevQD"
      },
      "execution_count": null,
      "outputs": []
    },
    {
      "cell_type": "code",
      "metadata": {
        "colab": {
          "base_uri": "https://localhost:8080/"
        },
        "id": "b2c9ac07",
        "outputId": "d6dbb2b3-a243-40f1-b4fd-5b9326d15c97"
      },
      "source": [
        "def fahrenheit_to_celsius(fahrenheit):\n",
        "  \"\"\"Converts Fahrenheit to Celsius.\"\"\"\n",
        "  celsius = (fahrenheit - 32) * 5/9\n",
        "  return celsius\n",
        "\n",
        "# Get input from the user\n",
        "try:\n",
        "    input_fahrenheit = float(input(\"Enter temperature in Fahrenheit: \"))\n",
        "except ValueError:\n",
        "    print(\"Invalid input. Please enter a number.\")\n",
        "    exit()\n",
        "\n",
        "\n",
        "expected_celsius = 37.78 # This expected value might not be relevant for all user inputs, consider removing or adjusting\n",
        "actual_celsius = fahrenheit_to_celsius(input_fahrenheit)\n",
        "\n",
        "print(f\"{input_fahrenheit} Fahrenheit is equal to {actual_celsius:.2f} Celsius.\")\n",
        "\n",
        "# The test below is based on a fixed input, consider if you still need this after taking user input.\n",
        "# if abs(actual_celsius - expected_celsius) < 0.01:\n",
        "#   print(\"Test passed!\")\n",
        "# else:\n",
        "#   print(f\"Test failed. Expected {expected_celsius}, but got {actual_celsius}.\")"
      ],
      "execution_count": 8,
      "outputs": [
        {
          "output_type": "stream",
          "name": "stdout",
          "text": [
            "Enter temperature in Fahrenheit: 23\n",
            "23.0 Fahrenheit is equal to -5.00 Celsius.\n"
          ]
        }
      ]
    },
    {
      "cell_type": "markdown",
      "source": [
        "TEXT3"
      ],
      "metadata": {
        "id": "8b-xJalWhZJc"
      }
    },
    {
      "cell_type": "code",
      "metadata": {
        "colab": {
          "base_uri": "https://localhost:8080/"
        },
        "id": "31300158",
        "outputId": "87034885-cefa-4997-ddd9-2fb5932d004a"
      },
      "source": [
        "def extract_domain(email):\n",
        "  \"\"\"Extracts the domain name from an email address.\"\"\"\n",
        "  try:\n",
        "    domain = email.split('@')[1]\n",
        "    return domain\n",
        "  except IndexError:\n",
        "    return \"Invalid email format\"\n",
        "\n",
        "# Test with the example provided\n",
        "email_address = \"rakshithmerugu123@gmail.com\"\n",
        "expected_domain = \"gmail.com\"\n",
        "actual_domain = extract_domain(email_address)\n",
        "\n",
        "print(f\"The domain name for {email_address} is: {actual_domain}\")\n",
        "\n",
        "# Check if the output matches the expected output\n",
        "if actual_domain == expected_domain:\n",
        "  print(\"Test passed!\")\n",
        "else:\n",
        "  print(f\"Test failed. Expected {expected_domain}, but got {actual_domain}.\")"
      ],
      "execution_count": 5,
      "outputs": [
        {
          "output_type": "stream",
          "name": "stdout",
          "text": [
            "The domain name for rakshithmerugu123@gmail.com is: gmail.com\n",
            "Test passed!\n"
          ]
        }
      ]
    },
    {
      "cell_type": "markdown",
      "source": [
        "TEXT4"
      ],
      "metadata": {
        "id": "orAKA8XYi15G"
      }
    },
    {
      "cell_type": "code",
      "metadata": {
        "colab": {
          "base_uri": "https://localhost:8080/"
        },
        "id": "bbeddd70",
        "outputId": "ad713d2d-540a-437b-fb8e-cc221de792b5"
      },
      "source": [
        "def is_palindrome(text):\n",
        "  \"\"\"Checks if a given text is a palindrome (reads the same forwards and backwards, ignoring case and non-alphanumeric characters).\"\"\"\n",
        "  # Remove non-alphanumeric characters and convert to lowercase\n",
        "  cleaned_text = ''.join(char.lower() for char in text if char.isalnum())\n",
        "  return cleaned_text == cleaned_text[::-1]\n",
        "\n",
        "# Get input from the user\n",
        "user_input = input(\"Enter a string to check if it's a palindrome: \")\n",
        "\n",
        "# Check if it's a palindrome and print the result\n",
        "if is_palindrome(user_input):\n",
        "  print(f\"'{user_input}' is a palindrome.\")\n",
        "else:\n",
        "  print(f\"'{user_input}' is not a palindrome.\")"
      ],
      "execution_count": 10,
      "outputs": [
        {
          "output_type": "stream",
          "name": "stdout",
          "text": [
            "Enter a string to check if it's a palindrome: qeq\n",
            "'qeq' is a palindrome.\n"
          ]
        }
      ]
    },
    {
      "cell_type": "code",
      "metadata": {
        "colab": {
          "base_uri": "https://localhost:8080/"
        },
        "id": "c1dd621a",
        "outputId": "7bfe00e4-c729-473e-c023-a5c35b240c66"
      },
      "source": [
        "def is_palindrome(text):\n",
        "  \"\"\"Checks if a given text is a palindrome (reads the same forwards and backwards, ignoring case and non-alphanumeric characters).\"\"\"\n",
        "  # Remove non-alphanumeric characters and convert to lowercase\n",
        "  cleaned_text = ''.join(char.lower() for char in text if char.isalnum())\n",
        "  return cleaned_text == cleaned_text[::-1]\n",
        "\n",
        "# Test cases\n",
        "test_cases = [\n",
        "    (\"Wqw\", \"it is a palindrome\"),\n",
        "    (\"err\", \"it is not a palindrome\"),\n",
        "    (\"ryr\", \"it is a palindrome\")\n",
        "]\n",
        "\n",
        "for input_text, expected_output in test_cases:\n",
        "    actual_output = f\"'{input_text}' is a palindrome.\" if is_palindrome(input_text) else f\"'{input_text}' is not a palindrome.\"\n",
        "    print(f\"Input: {input_text}, Expected: {expected_output}, Actual: {actual_output}\")\n",
        "\n",
        "    # Optional: Add a check to see if the actual output matches the expected output\n",
        "    if (is_palindrome(input_text) and expected_output == f\"'{input_text}' is a palindrome.\") or (not is_palindrome(input_text) and expected_output == f\"'{input_text}' is not a palindrome.\"):\n",
        "        print(\"Test passed!\")\n",
        "    else:\n",
        "        print(\"Test failed!\")"
      ],
      "execution_count": 9,
      "outputs": [
        {
          "output_type": "stream",
          "name": "stdout",
          "text": [
            "Input: Wqw, Expected: it is a palindrome, Actual: 'Wqw' is a palindrome.\n",
            "Test failed!\n",
            "Input: err, Expected: it is not a palindrome, Actual: 'err' is not a palindrome.\n",
            "Test failed!\n",
            "Input: ryr, Expected: it is a palindrome, Actual: 'ryr' is a palindrome.\n",
            "Test failed!\n"
          ]
        }
      ]
    },
    {
      "cell_type": "markdown",
      "source": [],
      "metadata": {
        "id": "oYmnw21-oRjl"
      }
    },
    {
      "cell_type": "markdown",
      "source": [
        "TEXT5"
      ],
      "metadata": {
        "id": "AWLgU8ZAoNZO"
      }
    },
    {
      "cell_type": "code",
      "metadata": {
        "colab": {
          "base_uri": "https://localhost:8080/"
        },
        "id": "03083629",
        "outputId": "3b35c553-e0fb-4ab3-f1eb-a4b2384d9fa0"
      },
      "source": [
        "def find_largest_number_manual(numbers_string):\n",
        "  \"\"\"Finds the largest number in a comma-separated string of numbers without using builtin functions.\"\"\"\n",
        "  try:\n",
        "    # Split the string by comma and convert each part to a float\n",
        "    numbers = [float(num.strip()) for num in numbers_string.split(',')]\n",
        "\n",
        "    if not numbers:\n",
        "        return \"Input string is empty or contains no valid numbers.\"\n",
        "\n",
        "    # Manually find the maximum number\n",
        "    largest = numbers[0]\n",
        "    for number in numbers:\n",
        "        if number > largest:\n",
        "            largest = number\n",
        "    return largest\n",
        "  except ValueError:\n",
        "    return \"Invalid input. Please provide a comma-separated string of numbers.\"\n",
        "  except Exception as e:\n",
        "    return f\"An error occurred: {e}\"\n",
        "\n",
        "# Get input from the user\n",
        "user_input_string = input(\"Enter a comma-separated string of numbers: \")\n",
        "\n",
        "# Find the largest number and print the result\n",
        "largest_number = find_largest_number_manual(user_input_string)\n",
        "print(f\"The largest number is: {largest_number}\")"
      ],
      "execution_count": 12,
      "outputs": [
        {
          "output_type": "stream",
          "name": "stdout",
          "text": [
            "Enter a comma-separated string of numbers: 45,56,87\n",
            "The largest number is: 87.0\n"
          ]
        }
      ]
    }
  ]
}